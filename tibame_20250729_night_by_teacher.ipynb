{
  "nbformat": 4,
  "nbformat_minor": 0,
  "metadata": {
    "colab": {
      "provenance": [],
      "include_colab_link": true
    },
    "kernelspec": {
      "name": "python3",
      "display_name": "Python 3"
    },
    "language_info": {
      "name": "python"
    }
  },
  "cells": [
    {
      "cell_type": "markdown",
      "metadata": {
        "id": "view-in-github",
        "colab_type": "text"
      },
      "source": [
        "<a href=\"https://colab.research.google.com/github/twsgov/Python0729/blob/main/tibame_20250729_night_by_teacher.ipynb\" target=\"_parent\"><img src=\"https://colab.research.google.com/assets/colab-badge.svg\" alt=\"Open In Colab\"/></a>"
      ]
    },
    {
      "cell_type": "markdown",
      "source": [
        "\n",
        "```\n",
        "環境\n",
        "1. 本地環境: 翻譯器(python 3.x)\n",
        "             輔助工具(IDE)(Pycharm*/VSCode)\n",
        "   Anaconda(X)\n",
        "\n",
        "2. 線上環境: repl.it/colab\n",
        "\n",
        "標準python: 從第一行執行到最後一行的檔案(.py)\n",
        "colab: python的額外工具(jupyter notebook) 寫一段執行一段(.ipynb)\n",
        "支援額外的文字語法: markdown語法 寫一段說明文字\n",
        "\n",
        "```\n",
        "\n"
      ],
      "metadata": {
        "id": "HgkbHYDF7czt"
      }
    },
    {
      "cell_type": "markdown",
      "source": [
        "\n",
        "\n",
        "```\n",
        "BMI程式\n",
        "1. 使用者可以輸入他自己的身高體重\n",
        "2. 根據輸入的身高體重計算bmi\n",
        "3. 根據bmi給出建議\n",
        "\n",
        "\n",
        "1. 什麼叫好的程式? 可讀性!!!!\n",
        "   影響可讀性: 語法/排版/註解\n",
        "\n",
        "2. 排版: https://peps.python.org/pep-0008/\n",
        "\n",
        "3. 功能: print(20) 20: 參數\n",
        "   * 不需要參數的功能: 功能名字()\n",
        "   * 只要是一個功能, 你就一定要加入小括號\n",
        "\n",
        "4. 註解: 這行並不是一句程式, 而是我們寫給使用者/自己的說明\n",
        "   # 說明\n",
        "\n",
        "5. 至高守則1. 不要重複寫\n",
        "\n",
        "6. =: 取代/是   名稱 = 值\n",
        "   a. 5 == 3 + 2 是否相等?\n",
        "   b. x = 2 取代/是\n",
        "\n",
        "7. 至高守則2. 型態(type)很重要\n",
        "   a. 數字: 細分兩種 int(整數)  float(小數)\n",
        "   b. 字串: str  \"adfasf\" 符號: 中文/英文/數字/表情/空白\n",
        "\n",
        "   電話號碼: 字串 \"0912345678\"\n",
        "\n",
        "8. \"abc\" + \"cde\" -> \"abccde\"  6 + 2 -> 8\n",
        "   python的世界, 不同型態的東西基本上是不能加減乘除的\n",
        "\n",
        "9. 型態轉換: str() int() float()\n",
        "\n",
        "10. input(\"adfasdf\")\n",
        "    * 功能: 1. 參數 2. 回傳值: 做完這個功能的回覆答案(新的)(check type)\n",
        "\n",
        "\n",
        "11. if-else(如果...否則)\n",
        "(>, >=, <=, <, ==)\n",
        "\n",
        "if bmi >= 25:\n",
        "    print()\n",
        "else:\n",
        "    print()\n",
        "\n",
        "強制排版(縮排): 上下關係可以被顯示 (冒號/TAB)\n",
        "劇本式排版\n",
        "Elwing:\n",
        "    xxx\n",
        "Amy:\n",
        "    xxx\n",
        "\n",
        "\n",
        "```\n",
        "\n"
      ],
      "metadata": {
        "id": "R8zFOhqbBUwq"
      }
    },
    {
      "cell_type": "code",
      "execution_count": null,
      "metadata": {
        "id": "OLv-09ZL5XRW",
        "colab": {
          "base_uri": "https://localhost:8080/"
        },
        "outputId": "8bd0eb6a-6f01-4cfa-8152-3908ec98d783"
      },
      "outputs": [
        {
          "output_type": "stream",
          "name": "stdout",
          "text": [
            "請輸入體重(kg):50\n",
            "請輸入身高(cm):175\n",
            "你輸入的體重是:50.0\n",
            "你輸入的身高是:175.0\n",
            "bmi是:16.3265306122449\n",
            "正常\n",
            "!!!!!\n"
          ]
        }
      ],
      "source": [
        "# bmi = weight(kg) / height(m) ^ 2\n",
        "weight = float(input(\"請輸入體重(kg):\"))\n",
        "height = float(input(\"請輸入身高(cm):\"))\n",
        "bmi = weight / (height / 100) ** 2\n",
        "\n",
        "print(\"你輸入的體重是:\" + str(weight))\n",
        "print(\"你輸入的身高是:\" + str(height))\n",
        "print(\"bmi是:\" + str(bmi))\n",
        "\n",
        "if bmi > 25:\n",
        "    print(\"過重\")\n",
        "    print(\"要減一下了!\")\n",
        "else:\n",
        "    print(\"正常\")\n",
        "print(\"!!!!!\")"
      ]
    },
    {
      "cell_type": "markdown",
      "source": [
        "\n",
        "\n",
        "```\n",
        "數學不是真理 數學是一種規定好的語言!!\n",
        "\n",
        "十進位: 0 1 2 3 ... 9 10\n",
        "五進位: 0 1 2 3 4 10 11 14 20 21... 44 100\n",
        "二進位: 0 1 10 11 100 101 110\n",
        "\n",
        "小數(把一塊pizza分成三塊)\n",
        "十進位: 0.333333333.........\n",
        "??? 0.333333... * 3(0.9999999999) = 1\n",
        "\n",
        "小數相等: 誤差非常小(可以忽略)就叫相等\n",
        "\n",
        "十進位: 0.333333333.......\n",
        "三進位: 0.1\n",
        "\n",
        "0.333333....(十進位) = 0.1(三進位)\n",
        "\n",
        "浮點數誤差(X)\n",
        "\n",
        "```\n",
        "\n"
      ],
      "metadata": {
        "id": "nPUsm2Y3KUTL"
      }
    },
    {
      "cell_type": "code",
      "source": [
        "3 + 3.14"
      ],
      "metadata": {
        "colab": {
          "base_uri": "https://localhost:8080/"
        },
        "id": "BwflRgQD7XUl",
        "outputId": "2e1a0933-b7fe-4009-d565-7be6b7ad41ce"
      },
      "execution_count": null,
      "outputs": [
        {
          "output_type": "execute_result",
          "data": {
            "text/plain": [
              "6.140000000000001"
            ]
          },
          "metadata": {},
          "execution_count": 11
        }
      ]
    },
    {
      "cell_type": "code",
      "source": [
        "# demo 回傳值: 回傳\"新的\"!!!\n",
        "# 你如果沒有做=, 基本上值是不會被改變的\n",
        "a = 4.6\n",
        "b = int(a)\n",
        "print(a)\n",
        "print(b)"
      ],
      "metadata": {
        "colab": {
          "base_uri": "https://localhost:8080/"
        },
        "id": "iMjZyh7hRmov",
        "outputId": "a8f6eca5-a67e-445b-a68e-f4e666e8c9b6"
      },
      "execution_count": null,
      "outputs": [
        {
          "output_type": "stream",
          "name": "stdout",
          "text": [
            "4.6\n",
            "4\n"
          ]
        }
      ]
    },
    {
      "cell_type": "code",
      "source": [
        "int(float(\"77.2\"))"
      ],
      "metadata": {
        "colab": {
          "base_uri": "https://localhost:8080/"
        },
        "id": "b55eJIBRV4CM",
        "outputId": "c8e1227c-a059-4146-e208-0ddc41c833e7"
      },
      "execution_count": null,
      "outputs": [
        {
          "output_type": "execute_result",
          "data": {
            "text/plain": [
              "77"
            ]
          },
          "metadata": {},
          "execution_count": 29
        }
      ]
    }
  ]
}