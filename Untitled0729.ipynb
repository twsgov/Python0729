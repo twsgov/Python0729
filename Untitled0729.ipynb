{
  "nbformat": 4,
  "nbformat_minor": 0,
  "metadata": {
    "colab": {
      "provenance": [],
      "authorship_tag": "ABX9TyNUOOgwFqQkEV1lgEURvB10",
      "include_colab_link": true
    },
    "kernelspec": {
      "name": "python3",
      "display_name": "Python 3"
    },
    "language_info": {
      "name": "python"
    }
  },
  "cells": [
    {
      "cell_type": "markdown",
      "metadata": {
        "id": "view-in-github",
        "colab_type": "text"
      },
      "source": [
        "<a href=\"https://colab.research.google.com/github/twsgov/Python0729/blob/main/Untitled0729.ipynb\" target=\"_parent\"><img src=\"https://colab.research.google.com/assets/colab-badge.svg\" alt=\"Open In Colab\"/></a>"
      ]
    },
    {
      "cell_type": "code",
      "execution_count": 30,
      "metadata": {
        "id": "rLLkTg1p57N6",
        "colab": {
          "base_uri": "https://localhost:8080/"
        },
        "outputId": "c0183304-f5c6-4017-ce7a-981a77354384"
      },
      "outputs": [
        {
          "output_type": "stream",
          "name": "stdout",
          "text": [
            "請輸入體重(kg):54\n",
            "請輸入身高(cm):163\n",
            "你輸入的體重是:54.0\n",
            "你輸入的身高是：163.0\n",
            "bmi是:20.32443825510934\n"
          ]
        }
      ],
      "source": [
        "# bmi = weight(kg) / height(m)^2\n",
        "weight = float(input(\"請輸入體重(kg):\"))\n",
        "hight = float(input(\"請輸入身高(cm):\"))\n",
        "bmi = weight / (hight / 100) ** 2\n",
        "print( \"你輸入的體重是:\" + str(weight))\n",
        "print( \"你輸入的身高是：\" + str(hight))\n",
        "print(\"bmi是:\" + str(bmi))"
      ]
    },
    {
      "cell_type": "code",
      "source": [
        "# demo 回傳值：做完回傳新的\n",
        "# 如果\n",
        "a = 4.6\n",
        "b = int(4.6)\n",
        "print(a)\n",
        "print(b)"
      ],
      "metadata": {
        "colab": {
          "base_uri": "https://localhost:8080/"
        },
        "id": "36cKNZG_7g8T",
        "outputId": "32d7e892-eac3-4046-d432-5fc885d15c1e"
      },
      "execution_count": 29,
      "outputs": [
        {
          "output_type": "stream",
          "name": "stdout",
          "text": [
            "4.6\n",
            "4\n"
          ]
        }
      ]
    },
    {
      "cell_type": "markdown",
      "source": [
        "BMI\n",
        "\n",
        "```\n",
        "input cm KG\n",
        "BMI\n",
        "給建議\n",
        "至高守則1：不要重複寫\n",
        "至高  2型態(type)很重要\n",
        "\n",
        "int() float()\n",
        "str \"aavcvkjk\"\n",
        "電話號碼： \"0189\"\n",
        "```\n",
        "\n"
      ],
      "metadata": {
        "id": "fPTYXXOiBgJ4"
      }
    }
  ]
}