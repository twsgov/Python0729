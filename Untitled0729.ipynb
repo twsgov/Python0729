{
  "nbformat": 4,
  "nbformat_minor": 0,
  "metadata": {
    "colab": {
      "provenance": [],
      "authorship_tag": "ABX9TyNp62Kfox02CQj14mpUqfo4",
      "include_colab_link": true
    },
    "kernelspec": {
      "name": "python3",
      "display_name": "Python 3"
    },
    "language_info": {
      "name": "python"
    }
  },
  "cells": [
    {
      "cell_type": "markdown",
      "metadata": {
        "id": "view-in-github",
        "colab_type": "text"
      },
      "source": [
        "<a href=\"https://colab.research.google.com/github/twsgov/Python0729/blob/main/Untitled0729.ipynb\" target=\"_parent\"><img src=\"https://colab.research.google.com/assets/colab-badge.svg\" alt=\"Open In Colab\"/></a>"
      ]
    },
    {
      "cell_type": "code",
      "execution_count": 21,
      "metadata": {
        "id": "rLLkTg1p57N6",
        "colab": {
          "base_uri": "https://localhost:8080/"
        },
        "outputId": "a4d223ae-f457-4a5c-9d45-e6dba5cd9f4f"
      },
      "outputs": [
        {
          "output_type": "stream",
          "name": "stdout",
          "text": [
            "你輸入的體重是:54\n",
            "你輸入的身高是：163\n",
            "bmi是:20.32443825510934\n"
          ]
        }
      ],
      "source": [
        "from pickle import STRING\n",
        "# bmi=weight(kg)/height(m)^2\n",
        "weight = 54\n",
        "hight = 163\n",
        "bmi = weight / (hight / 100) ** 2\n",
        "print( \"你輸入的體重是:\" + str(weight))\n",
        "print( \"你輸入的身高是：\" + str(hight))\n",
        "print(\"bmi是:\" + str(bmi))"
      ]
    },
    {
      "cell_type": "code",
      "source": [
        " print(3.0 + 3.14)"
      ],
      "metadata": {
        "colab": {
          "base_uri": "https://localhost:8080/"
        },
        "id": "36cKNZG_7g8T",
        "outputId": "a4c4271c-be1c-466f-b4ee-31d0d991737d"
      },
      "execution_count": 15,
      "outputs": [
        {
          "output_type": "stream",
          "name": "stdout",
          "text": [
            "6.140000000000001\n"
          ]
        }
      ]
    },
    {
      "cell_type": "markdown",
      "source": [
        "BMI\n",
        "\n",
        "```\n",
        "input cm KG\n",
        "BMI\n",
        "給建議\n",
        "至高守則1：不要重複寫\n",
        "至高  2型態(type)很重要\n",
        "\n",
        "int() float()\n",
        "str \"aavcvkjk\"\n",
        "電話號碼： \"0189\"\n",
        "```\n",
        "\n"
      ],
      "metadata": {
        "id": "fPTYXXOiBgJ4"
      }
    }
  ]
}