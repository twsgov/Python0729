{
  "nbformat": 4,
  "nbformat_minor": 0,
  "metadata": {
    "colab": {
      "provenance": [],
      "authorship_tag": "ABX9TyPmJgbCAs/TUCNv0CN0PR+d",
      "include_colab_link": true
    },
    "kernelspec": {
      "name": "python3",
      "display_name": "Python 3"
    },
    "language_info": {
      "name": "python"
    }
  },
  "cells": [
    {
      "cell_type": "markdown",
      "metadata": {
        "id": "view-in-github",
        "colab_type": "text"
      },
      "source": [
        "<a href=\"https://colab.research.google.com/github/twsgov/Python0729/blob/main/Untitled0729.ipynb\" target=\"_parent\"><img src=\"https://colab.research.google.com/assets/colab-badge.svg\" alt=\"Open In Colab\"/></a>"
      ]
    },
    {
      "cell_type": "code",
      "execution_count": 10,
      "metadata": {
        "id": "rLLkTg1p57N6",
        "colab": {
          "base_uri": "https://localhost:8080/"
        },
        "outputId": "deb1b434-50d6-4049-f342-3bfddca3443d"
      },
      "outputs": [
        {
          "output_type": "stream",
          "name": "stdout",
          "text": [
            "54\n",
            "163\n",
            "20.32443825510934\n"
          ]
        }
      ],
      "source": [
        "# bmi=weight(kg)/height(m)^2\n",
        "weight = 54\n",
        "hight = 163\n",
        "print(weight)\n",
        "print(hight)\n",
        "print(weight/(hight/100)**2)"
      ]
    },
    {
      "cell_type": "code",
      "source": [],
      "metadata": {
        "id": "36cKNZG_7g8T"
      },
      "execution_count": null,
      "outputs": []
    },
    {
      "cell_type": "markdown",
      "source": [
        "BMI\n",
        "\n",
        "```\n",
        "input cm KG\n",
        "BMI\n",
        "給建議\n",
        "至高守則1：不要重複寫\n",
        "```\n",
        "\n"
      ],
      "metadata": {
        "id": "fPTYXXOiBgJ4"
      }
    }
  ]
}