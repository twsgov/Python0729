{
  "nbformat": 4,
  "nbformat_minor": 0,
  "metadata": {
    "colab": {
      "provenance": [],
      "authorship_tag": "ABX9TyMmokHSoucOCG4rC55QJ8NM",
      "include_colab_link": true
    },
    "kernelspec": {
      "name": "python3",
      "display_name": "Python 3"
    },
    "language_info": {
      "name": "python"
    }
  },
  "cells": [
    {
      "cell_type": "markdown",
      "metadata": {
        "id": "view-in-github",
        "colab_type": "text"
      },
      "source": [
        "<a href=\"https://colab.research.google.com/github/twsgov/Python0729/blob/main/tws_gov_Python_0807note.ipynb\" target=\"_parent\"><img src=\"https://colab.research.google.com/assets/colab-badge.svg\" alt=\"Open In Colab\"/></a>"
      ]
    },
    {
      "cell_type": "code",
      "execution_count": 17,
      "metadata": {
        "colab": {
          "base_uri": "https://localhost:8080/"
        },
        "id": "Whhr0eWhLVY0",
        "outputId": "48eb2ae3-bfba-48f8-e4f4-0fe16d1bf862"
      },
      "outputs": [
        {
          "output_type": "stream",
          "name": "stdout",
          "text": [
            "0 1 9 5  [2, 3]\n",
            "1 2 8 8 hi [2, 3]\n",
            "2 3 7 11 hihi [2, 3]\n",
            "3 4 6 14 hihihi [2, 3]\n",
            "4 5 5 17 hihihihi [2, 3]\n",
            "5 6 4 20 hihihihihi [2, 3]\n",
            "6 7 3 23 hihihihihihi [2, 3]\n",
            "7 8 2 26 hihihihihihihi [2, 3]\n",
            "8 9 1 29 hihihihihihihihi [2, 3]\n",
            "9 10 0 32 hihihihihihihihihi [2, 3]\n"
          ]
        }
      ],
      "source": [
        "i = 0\n",
        "while i < 10:\n",
        "    print(i,i+1,9-i,i*3+5,\"hi\"* i,[2,3])\n",
        "    i = i + 1"
      ]
    },
    {
      "cell_type": "code",
      "source": [
        "i = 0\n",
        "while i < 4:\n",
        "    print(\" \"*i,\"o\"*(4-i))\n",
        "    i = i + 1"
      ],
      "metadata": {
        "colab": {
          "base_uri": "https://localhost:8080/"
        },
        "id": "0c1rhHB6SiWN",
        "outputId": "9255607a-96ca-4290-da7d-62d63d429239"
      },
      "execution_count": 25,
      "outputs": [
        {
          "output_type": "stream",
          "name": "stdout",
          "text": [
            " oooo\n",
            "  ooo\n",
            "   oo\n",
            "    o\n"
          ]
        }
      ]
    },
    {
      "cell_type": "markdown",
      "source": [],
      "metadata": {
        "id": "9sgHTnW0R-lE"
      }
    },
    {
      "cell_type": "markdown",
      "source": [
        "\n",
        "\n",
        "```\n",
        "# 此內容會顯示為程式碼\n",
        "\n",
        "\"hi\"* 5\n",
        "\n",
        "0\n",
        "i = i + 1\n",
        "i < 10\n",
        "\n",
        "\n",
        "```\n",
        "\n"
      ],
      "metadata": {
        "id": "kWubzMq-NchB"
      }
    },
    {
      "cell_type": "code",
      "source": [],
      "metadata": {
        "id": "lIEUMIU2Ng9W"
      },
      "execution_count": null,
      "outputs": []
    }
  ]
}