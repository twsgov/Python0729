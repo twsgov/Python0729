{
  "nbformat": 4,
  "nbformat_minor": 0,
  "metadata": {
    "colab": {
      "provenance": [],
      "authorship_tag": "ABX9TyN8v2TXhGRTwnk57S5Duv/p",
      "include_colab_link": true
    },
    "kernelspec": {
      "name": "python3",
      "display_name": "Python 3"
    },
    "language_info": {
      "name": "python"
    }
  },
  "cells": [
    {
      "cell_type": "markdown",
      "metadata": {
        "id": "view-in-github",
        "colab_type": "text"
      },
      "source": [
        "<a href=\"https://colab.research.google.com/github/twsgov/Python0729/blob/main/tws_gov_Python_0807note.ipynb\" target=\"_parent\"><img src=\"https://colab.research.google.com/assets/colab-badge.svg\" alt=\"Open In Colab\"/></a>"
      ]
    },
    {
      "cell_type": "code",
      "execution_count": null,
      "metadata": {
        "colab": {
          "base_uri": "https://localhost:8080/"
        },
        "id": "Whhr0eWhLVY0",
        "outputId": "b9fbe303-beb2-44fc-a3be-a2eee244aa7d"
      },
      "outputs": [
        {
          "output_type": "stream",
          "name": "stdout",
          "text": [
            "0 1 9 5  []\n",
            "1 2 8 8 hi [2, 3]\n",
            "2 3 7 11 hihi [2, 3, 2, 3]\n",
            "3 4 6 14 hihihi [2, 3, 2, 3, 2, 3]\n",
            "4 5 5 17 hihihihi [2, 3, 2, 3, 2, 3, 2, 3]\n",
            "5 6 4 20 hihihihihi [2, 3, 2, 3, 2, 3, 2, 3, 2, 3]\n",
            "6 7 3 23 hihihihihihi [2, 3, 2, 3, 2, 3, 2, 3, 2, 3, 2, 3]\n",
            "7 8 2 26 hihihihihihihi [2, 3, 2, 3, 2, 3, 2, 3, 2, 3, 2, 3, 2, 3]\n",
            "8 9 1 29 hihihihihihihihi [2, 3, 2, 3, 2, 3, 2, 3, 2, 3, 2, 3, 2, 3, 2, 3]\n",
            "9 10 0 32 hihihihihihihihihi [2, 3, 2, 3, 2, 3, 2, 3, 2, 3, 2, 3, 2, 3, 2, 3, 2, 3]\n"
          ]
        }
      ],
      "source": [
        "i = 0\n",
        "while i < 10:\n",
        "    print(i,i+1,9-i,i*3+5,\"hi\"* i,[2, 3]*i)\n",
        "    i = i + 1"
      ]
    },
    {
      "cell_type": "code",
      "source": [
        "#設定左.右的圖形\n",
        "left,right = \"○\",\"╳\"\n",
        "#跑幾層\n",
        "layer = 10\n",
        "\n",
        "i = 0\n",
        "while i < layer:\n",
        "    #左邊的個數逐層增加\n",
        "    lcount = i\n",
        "    #右邊的個數逐層減少\n",
        "    rcount = layer - i\n",
        "    #印出該層的  左圖型*個數+右圖型*個數\n",
        "    print(left * lcount + right * rcount)\n",
        "    #\n",
        "    i = i + 1"
      ],
      "metadata": {
        "colab": {
          "base_uri": "https://localhost:8080/"
        },
        "id": "0c1rhHB6SiWN",
        "outputId": "0ac8dfcd-40ba-4a20-b3ca-65677258a173"
      },
      "execution_count": null,
      "outputs": [
        {
          "output_type": "stream",
          "name": "stdout",
          "text": [
            "╳╳╳╳╳╳╳╳╳╳\n",
            "○╳╳╳╳╳╳╳╳╳\n",
            "○○╳╳╳╳╳╳╳╳\n",
            "○○○╳╳╳╳╳╳╳\n",
            "○○○○╳╳╳╳╳╳\n",
            "○○○○○╳╳╳╳╳\n",
            "○○○○○○╳╳╳╳\n",
            "○○○○○○○╳╳╳\n",
            "○○○○○○○○╳╳\n",
            "○○○○○○○○○╳\n"
          ]
        }
      ]
    },
    {
      "cell_type": "markdown",
      "source": [],
      "metadata": {
        "id": "9sgHTnW0R-lE"
      }
    },
    {
      "cell_type": "markdown",
      "source": [
        "\n",
        "\n",
        "```\n",
        "# 此內容會顯示為程式碼\n",
        "Q:print(\" \"*i ,\"o\"*(layer-i)) 中間會有1個空格\n",
        "Q:print(\" \"*i+\"o\"*(layer-i))\n",
        "Q:\n",
        "\"hi\"* 5\n",
        "\n",
        "0\n",
        "i = i + 1\n",
        "i < 10\n",
        "\n",
        "\n",
        "```\n",
        "\n"
      ],
      "metadata": {
        "id": "kWubzMq-NchB"
      }
    },
    {
      "cell_type": "code",
      "source": [
        "# 左邊符號有哪些放lsymbols清單，右邊符號有哪些放rsymbols清單\n",
        "rsymbols = [\"☑️\", \"✅\"]\n",
        "lsymbols = [\"❌\", \"⭕\"]\n",
        "# 設layer 要做幾層\n",
        "layer = 10\n",
        "i = 0 #迴圈初始設置\n",
        "while i < layer:\n",
        "    # 只要對某個東西算長度 len(要算字串長度，清單項目數)\n",
        "    # 右邊符號取第0個第1個第2個(%N表示循環)，就看rsymbols清單裡有N項目，len(rsymbols)\n",
        "    left = lsymbols[i%len(lsymbols)]\n",
        "    right = rsymbols[i%len(rsymbols)]\n",
        "    #左邊符號的個數\n",
        "    lcount = i\n",
        "    #右邊符號的個數\n",
        "    rcount = layer  - i\n",
        "    print(left * lcount + right * rcount)\n",
        "    i = i + 1"
      ],
      "metadata": {
        "colab": {
          "base_uri": "https://localhost:8080/"
        },
        "id": "lIEUMIU2Ng9W",
        "outputId": "480e92d1-8b3e-488b-fcac-7bfa93745c78"
      },
      "execution_count": 11,
      "outputs": [
        {
          "output_type": "stream",
          "name": "stdout",
          "text": [
            "☑️☑️☑️☑️☑️☑️☑️☑️☑️☑️\n",
            "⭕✅✅✅✅✅✅✅✅✅\n",
            "❌❌☑️☑️☑️☑️☑️☑️☑️☑️\n",
            "⭕⭕⭕✅✅✅✅✅✅✅\n",
            "❌❌❌❌☑️☑️☑️☑️☑️☑️\n",
            "⭕⭕⭕⭕⭕✅✅✅✅✅\n",
            "❌❌❌❌❌❌☑️☑️☑️☑️\n",
            "⭕⭕⭕⭕⭕⭕⭕✅✅✅\n",
            "❌❌❌❌❌❌❌❌☑️☑️\n",
            "⭕⭕⭕⭕⭕⭕⭕⭕⭕✅\n"
          ]
        }
      ]
    },
    {
      "cell_type": "code",
      "source": [
        "# 從字串清單中逐個取出字串\n",
        "lsymbols = [\"❌\", \"⭕\", \"➕\", \"➖\",\"✅\", \"❎\", \"☑️\", \"🟪\"]\n",
        "# 有幾個符號，就要重複做幾次，用len()算清單項目，或是算字母長度\n",
        "print (\"總共有\",len(lsymbols),\"個符號\")\n",
        "\n",
        "i = 0\n",
        "while i < len(lsymbols):\n",
        "    print( \"第\",i+1,\"個:\",lsymbols[i] )\n",
        "    i = i + 1"
      ],
      "metadata": {
        "colab": {
          "base_uri": "https://localhost:8080/"
        },
        "id": "bhrcUkx_5_cX",
        "outputId": "9cf3abe3-bc71-47da-904f-5a2930bbd155"
      },
      "execution_count": 21,
      "outputs": [
        {
          "output_type": "stream",
          "name": "stdout",
          "text": [
            "總共有 8 個符號\n",
            "第 1 個: ❌\n",
            "第 2 個: ⭕\n",
            "第 3 個: ➕\n",
            "第 4 個: ➖\n",
            "第 5 個: ✅\n",
            "第 6 個: ❎\n",
            "第 7 個: ☑️\n",
            "第 8 個: 🟪\n"
          ]
        }
      ]
    },
    {
      "cell_type": "code",
      "source": [
        "# 從word中逐個取出字母，並計算哪個字母出現了幾次\n",
        "word =\"embarrassing\"\n",
        "# 有幾個符號，就要重複做幾次，用len()算清單項目，或是算字母長度\n",
        "print (word,\"裡面有\" ,len(word),\"個字母\")\n",
        "# 先給一個空的alphabet清單\n",
        "alphabet = []\n",
        "# 先給一個空的對應alphabet清單裡字母的記數清單\n",
        "alphabet_count = []\n",
        "# 重複取幾次\n",
        "i = 0\n",
        "# 有幾個字母就要重複做幾次\n",
        "while i < len(word):\n",
        "    # 如果這個字母之前沒看過，把這個字母放入清單中\n",
        "    if not word[i] in alphabet :\n",
        "        alphabet = alphabet + [word[i]]\n",
        "        # 在字母記數清單中從1開始計數對應的字母\n",
        "        N = int(1)\n",
        "        alphabet_count = alphabet_count + [N]\n",
        "        print( \"第\", i+1 ,\"個:\",word[i],\"放入\",alphabet )\n",
        "        print( word[i],\"有\",N,\"個\" )\n",
        "    # 如果這個字母之前已經算過了，確認這個字母是清單中的第幾個，則該個字母的計數+1\n",
        "    else  :\n",
        "        # position 是 alphabet 中的位置\n",
        "        position = alphabet.index(word[i])\n",
        "        alphabet_count[position] = alphabet_count[position] + 1\n",
        "        print(\"第\", i+1, \"個:\", word[i], \"已經在\", alphabet, \"的第\", position+1, \"個\")\n",
        "        print( alphabet[position],\"有\",alphabet_count[position],\"個\")\n",
        "    i = i + 1\n",
        "\n",
        "print(word,\"的字母統計結果如下：\")\n",
        "position = 0\n",
        "while position < len(alphabet):\n",
        "    print( alphabet[position],\"有\",alphabet_count[position],\"個\")\n",
        "    position = position + 1\n",
        "\n"
      ],
      "metadata": {
        "colab": {
          "base_uri": "https://localhost:8080/"
        },
        "id": "eYZFQJr09H5Q",
        "outputId": "020f4b14-1451-4c5e-cb39-0e5ac2183812"
      },
      "execution_count": 62,
      "outputs": [
        {
          "output_type": "stream",
          "name": "stdout",
          "text": [
            "embarrassing 裡面有 12 個字母\n",
            "第 1 個: e 放入 ['e']\n",
            "e 有 1 個\n",
            "第 2 個: m 放入 ['e', 'm']\n",
            "m 有 1 個\n",
            "第 3 個: b 放入 ['e', 'm', 'b']\n",
            "b 有 1 個\n",
            "第 4 個: a 放入 ['e', 'm', 'b', 'a']\n",
            "a 有 1 個\n",
            "第 5 個: r 放入 ['e', 'm', 'b', 'a', 'r']\n",
            "r 有 1 個\n",
            "第 6 個: r 已經在 ['e', 'm', 'b', 'a', 'r'] 的第 5 個\n",
            "r 有 2 個\n",
            "第 7 個: a 已經在 ['e', 'm', 'b', 'a', 'r'] 的第 4 個\n",
            "a 有 2 個\n",
            "第 8 個: s 放入 ['e', 'm', 'b', 'a', 'r', 's']\n",
            "s 有 1 個\n",
            "第 9 個: s 已經在 ['e', 'm', 'b', 'a', 'r', 's'] 的第 6 個\n",
            "s 有 2 個\n",
            "第 10 個: i 放入 ['e', 'm', 'b', 'a', 'r', 's', 'i']\n",
            "i 有 1 個\n",
            "第 11 個: n 放入 ['e', 'm', 'b', 'a', 'r', 's', 'i', 'n']\n",
            "n 有 1 個\n",
            "第 12 個: g 放入 ['e', 'm', 'b', 'a', 'r', 's', 'i', 'n', 'g']\n",
            "g 有 1 個\n",
            "embarrassing 的字母統計結果如下：\n",
            "e 有 1 個\n",
            "m 有 1 個\n",
            "b 有 1 個\n",
            "a 有 2 個\n",
            "r 有 2 個\n",
            "s 有 2 個\n",
            "i 有 1 個\n",
            "n 有 1 個\n",
            "g 有 1 個\n"
          ]
        }
      ]
    },
    {
      "cell_type": "code",
      "source": [
        "left,mid,right = \"☑️\",\"✴️\",\"✅\"\n",
        "\n",
        "layer = 10\n",
        "i = 0\n",
        "while i < layer:\n",
        "    lcount = i\n",
        "    rcount = i\n",
        "    #第1層個數(layer*2-1)\n",
        "    midcount= (layer*2-1)-(2*i)\n",
        "    print(left*lcount +\n",
        "       mid*midcount +\n",
        "       right*rcount)\n",
        "    i = i + 1"
      ],
      "metadata": {
        "colab": {
          "base_uri": "https://localhost:8080/"
        },
        "id": "3ADV9d5tgTtv",
        "outputId": "dc59c55a-50fd-423c-f4be-8e19ee384b34"
      },
      "execution_count": 22,
      "outputs": [
        {
          "output_type": "stream",
          "name": "stdout",
          "text": [
            "✴️✴️✴️✴️✴️✴️✴️✴️✴️✴️✴️✴️✴️✴️✴️✴️✴️✴️✴️\n",
            "☑️✴️✴️✴️✴️✴️✴️✴️✴️✴️✴️✴️✴️✴️✴️✴️✴️✴️✅\n",
            "☑️☑️✴️✴️✴️✴️✴️✴️✴️✴️✴️✴️✴️✴️✴️✴️✴️✅✅\n",
            "☑️☑️☑️✴️✴️✴️✴️✴️✴️✴️✴️✴️✴️✴️✴️✴️✅✅✅\n",
            "☑️☑️☑️☑️✴️✴️✴️✴️✴️✴️✴️✴️✴️✴️✴️✅✅✅✅\n",
            "☑️☑️☑️☑️☑️✴️✴️✴️✴️✴️✴️✴️✴️✴️✅✅✅✅✅\n",
            "☑️☑️☑️☑️☑️☑️✴️✴️✴️✴️✴️✴️✴️✅✅✅✅✅✅\n",
            "☑️☑️☑️☑️☑️☑️☑️✴️✴️✴️✴️✴️✅✅✅✅✅✅✅\n",
            "☑️☑️☑️☑️☑️☑️☑️☑️✴️✴️✴️✅✅✅✅✅✅✅✅\n",
            "☑️☑️☑️☑️☑️☑️☑️☑️☑️✴️✅✅✅✅✅✅✅✅✅\n"
          ]
        }
      ]
    },
    {
      "cell_type": "code",
      "source": [
        "#從1至N的total，累計值在腦中一直加總\n",
        "total = 0\n",
        "N = 10\n",
        "i = 0\n",
        "while i < N:\n",
        "    total = total + ( i + 1)\n",
        "    print(\"腦袋裡是:\", total)\n",
        "    i = i + 1\n",
        "print(\"總計是\",total)"
      ],
      "metadata": {
        "colab": {
          "base_uri": "https://localhost:8080/"
        },
        "id": "jN9yS6rOrFWP",
        "outputId": "4073ecd6-c762-4cc9-c7c1-94fbba5e81a1"
      },
      "execution_count": null,
      "outputs": [
        {
          "output_type": "stream",
          "name": "stdout",
          "text": [
            "腦袋裡是: 1\n",
            "腦袋裡是: 3\n",
            "腦袋裡是: 6\n",
            "腦袋裡是: 10\n",
            "腦袋裡是: 15\n",
            "腦袋裡是: 21\n",
            "腦袋裡是: 28\n",
            "腦袋裡是: 36\n",
            "腦袋裡是: 45\n",
            "腦袋裡是: 55\n",
            "總計是 55\n"
          ]
        }
      ]
    },
    {
      "cell_type": "code",
      "source": [
        "#除法 被除數 除數\n",
        "a ,b= 2,7\n",
        "#把除出來的商變成字串，接起來\n",
        "result =\"0.\"\n",
        "\n",
        "i= 0\n",
        "#要除幾次就是算到小數點後幾位\n",
        "while i < 10:\n",
        "    #a不夠除,往後補0\n",
        "    A10 = a*10\n",
        "    result = result+str(A10//b)\n",
        "    a = A10 % b\n",
        "    print(result)\n",
        "    i = i + 1"
      ],
      "metadata": {
        "colab": {
          "base_uri": "https://localhost:8080/"
        },
        "id": "CZ7q0pPCt4qm",
        "outputId": "fb14f306-a52a-4155-a12f-bad69ac41029"
      },
      "execution_count": null,
      "outputs": [
        {
          "output_type": "stream",
          "name": "stdout",
          "text": [
            "0.2\n",
            "0.28\n",
            "0.285\n",
            "0.2857\n",
            "0.28571\n",
            "0.285714\n",
            "0.2857142\n",
            "0.28571428\n",
            "0.285714285\n",
            "0.2857142857\n"
          ]
        }
      ]
    },
    {
      "cell_type": "code",
      "source": [
        "2/7"
      ],
      "metadata": {
        "colab": {
          "base_uri": "https://localhost:8080/"
        },
        "id": "FPtfkQxXxjIj",
        "outputId": "8b103615-f77e-4ee5-ca9d-d0917c32345b"
      },
      "execution_count": null,
      "outputs": [
        {
          "output_type": "execute_result",
          "data": {
            "text/plain": [
              "0.2857142857142857"
            ]
          },
          "metadata": {},
          "execution_count": 93
        }
      ]
    },
    {
      "cell_type": "code",
      "source": [
        "#商有整數部分，除法算到小數點第i位\n",
        "a , b = 257 , 7\n",
        "result = str( a//b )+\".\"\n",
        "a = a % b\n",
        "i= 0\n",
        "#算小數點後面的位數，總共i次\n",
        "while i < 10:\n",
        "    #a不夠除,往後補0\n",
        "    A10 = a*10\n",
        "    result = result + str( A10 // b)\n",
        "    a = A10 % b\n",
        "    print(result)\n",
        "    i = i + 1"
      ],
      "metadata": {
        "colab": {
          "base_uri": "https://localhost:8080/"
        },
        "id": "5DH4qs0Frdgx",
        "outputId": "b88147d6-5cc7-49c8-de56-abed5d5b7db4"
      },
      "execution_count": null,
      "outputs": [
        {
          "output_type": "stream",
          "name": "stdout",
          "text": [
            "36.7\n",
            "36.71\n",
            "36.714\n",
            "36.7142\n",
            "36.71428\n",
            "36.714285\n",
            "36.7142857\n",
            "36.71428571\n",
            "36.714285714\n",
            "36.7142857142\n"
          ]
        }
      ]
    },
    {
      "cell_type": "code",
      "source": [
        "250/7"
      ],
      "metadata": {
        "colab": {
          "base_uri": "https://localhost:8080/"
        },
        "id": "LP2KAvwJzwVi",
        "outputId": "aec32ca0-96a2-4804-cb87-622411d59d44"
      },
      "execution_count": null,
      "outputs": [
        {
          "output_type": "execute_result",
          "data": {
            "text/plain": [
              "35.714285714285715"
            ]
          },
          "metadata": {},
          "execution_count": 98
        }
      ]
    }
  ]
}