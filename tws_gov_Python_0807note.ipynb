{
  "nbformat": 4,
  "nbformat_minor": 0,
  "metadata": {
    "colab": {
      "provenance": [],
      "authorship_tag": "ABX9TyOVg49cti1eIii/nc8r6qU8",
      "include_colab_link": true
    },
    "kernelspec": {
      "name": "python3",
      "display_name": "Python 3"
    },
    "language_info": {
      "name": "python"
    }
  },
  "cells": [
    {
      "cell_type": "markdown",
      "metadata": {
        "id": "view-in-github",
        "colab_type": "text"
      },
      "source": [
        "<a href=\"https://colab.research.google.com/github/twsgov/Python0729/blob/main/tws_gov_Python_0807note.ipynb\" target=\"_parent\"><img src=\"https://colab.research.google.com/assets/colab-badge.svg\" alt=\"Open In Colab\"/></a>"
      ]
    },
    {
      "cell_type": "code",
      "execution_count": 28,
      "metadata": {
        "colab": {
          "base_uri": "https://localhost:8080/"
        },
        "id": "Whhr0eWhLVY0",
        "outputId": "b9fbe303-beb2-44fc-a3be-a2eee244aa7d"
      },
      "outputs": [
        {
          "output_type": "stream",
          "name": "stdout",
          "text": [
            "0 1 9 5  []\n",
            "1 2 8 8 hi [2, 3]\n",
            "2 3 7 11 hihi [2, 3, 2, 3]\n",
            "3 4 6 14 hihihi [2, 3, 2, 3, 2, 3]\n",
            "4 5 5 17 hihihihi [2, 3, 2, 3, 2, 3, 2, 3]\n",
            "5 6 4 20 hihihihihi [2, 3, 2, 3, 2, 3, 2, 3, 2, 3]\n",
            "6 7 3 23 hihihihihihi [2, 3, 2, 3, 2, 3, 2, 3, 2, 3, 2, 3]\n",
            "7 8 2 26 hihihihihihihi [2, 3, 2, 3, 2, 3, 2, 3, 2, 3, 2, 3, 2, 3]\n",
            "8 9 1 29 hihihihihihihihi [2, 3, 2, 3, 2, 3, 2, 3, 2, 3, 2, 3, 2, 3, 2, 3]\n",
            "9 10 0 32 hihihihihihihihihi [2, 3, 2, 3, 2, 3, 2, 3, 2, 3, 2, 3, 2, 3, 2, 3, 2, 3]\n"
          ]
        }
      ],
      "source": [
        "i = 0\n",
        "while i < 10:\n",
        "    print(i,i+1,9-i,i*3+5,\"hi\"* i,[2, 3]*i)\n",
        "    i = i + 1"
      ]
    },
    {
      "cell_type": "code",
      "source": [
        "left,right = \"○\",\"╳\"\n",
        "\n",
        "layer = 10\n",
        "i = 0\n",
        "while i < layer:\n",
        "    lcount = i\n",
        "    rcount = layer - i\n",
        "    print(left * lcount + right * rcount)\n",
        "    i = i + 1"
      ],
      "metadata": {
        "colab": {
          "base_uri": "https://localhost:8080/"
        },
        "id": "0c1rhHB6SiWN",
        "outputId": "ed3614af-10e4-43ae-fd09-a42d9f1aad6c"
      },
      "execution_count": 54,
      "outputs": [
        {
          "output_type": "stream",
          "name": "stdout",
          "text": [
            "╳╳╳╳╳╳╳╳╳╳\n",
            "○╳╳╳╳╳╳╳╳╳\n",
            "○○╳╳╳╳╳╳╳╳\n",
            "○○○╳╳╳╳╳╳╳\n",
            "○○○○╳╳╳╳╳╳\n",
            "○○○○○╳╳╳╳╳\n",
            "○○○○○○╳╳╳╳\n",
            "○○○○○○○╳╳╳\n",
            "○○○○○○○○╳╳\n",
            "○○○○○○○○○╳\n"
          ]
        }
      ]
    },
    {
      "cell_type": "markdown",
      "source": [],
      "metadata": {
        "id": "9sgHTnW0R-lE"
      }
    },
    {
      "cell_type": "markdown",
      "source": [
        "\n",
        "\n",
        "```\n",
        "# 此內容會顯示為程式碼\n",
        "Q:print(\" \"*i ,\"o\"*(layer-i)) 中間會有1個空格\n",
        "Q:print(\" \"*i+\"o\"*(layer-i))\n",
        "Q:\n",
        "\"hi\"* 5\n",
        "\n",
        "0\n",
        "i = i + 1\n",
        "i < 10\n",
        "\n",
        "\n",
        "```\n",
        "\n"
      ],
      "metadata": {
        "id": "kWubzMq-NchB"
      }
    },
    {
      "cell_type": "code",
      "source": [
        "# 左邊符號有哪些放lsymbols清單，右邊符號有哪些放rsymbols清單\n",
        "rsymbols = [\"☑️\", \"✅\"]\n",
        "lsymbols = [\"❌\", \"⭕\"]\n",
        "# 設layer 要做幾層\n",
        "layer = 10\n",
        "i = 0 #迴圈初始設置\n",
        "while i < layer:\n",
        "    # 只要對某個東西算長度 len(要算字串長度，清單項目數)\n",
        "    # 右邊符號取第0個第1個第2個(%N表示循環)，就看rsymbols清單裡有N項目，len(rsymbols)\n",
        "    left = lsymbols[i%len(lsymbols)]\n",
        "    right = rsymbols[i%len(rsymbols)]\n",
        "    #左邊符號的個數\n",
        "    lcount = i + 1\n",
        "    #右邊符號的個數\n",
        "    rcount = layer -1 - i\n",
        "    print(left * lcount + right * rcount)\n",
        "    i = i + 1\n"
      ],
      "metadata": {
        "colab": {
          "base_uri": "https://localhost:8080/"
        },
        "id": "lIEUMIU2Ng9W",
        "outputId": "d9eefb72-258b-4456-f9a2-9b481bb34ede"
      },
      "execution_count": 137,
      "outputs": [
        {
          "output_type": "stream",
          "name": "stdout",
          "text": [
            "❌☑️☑️☑️☑️☑️☑️☑️☑️☑️\n",
            "⭕⭕✅✅✅✅✅✅✅✅\n",
            "❌❌❌☑️☑️☑️☑️☑️☑️☑️\n",
            "⭕⭕⭕⭕✅✅✅✅✅✅\n",
            "❌❌❌❌❌☑️☑️☑️☑️☑️\n",
            "⭕⭕⭕⭕⭕⭕✅✅✅✅\n",
            "❌❌❌❌❌❌❌☑️☑️☑️\n",
            "⭕⭕⭕⭕⭕⭕⭕⭕✅✅\n",
            "❌❌❌❌❌❌❌❌❌☑️\n",
            "⭕⭕⭕⭕⭕⭕⭕⭕⭕⭕\n"
          ]
        }
      ]
    },
    {
      "cell_type": "code",
      "source": [
        "lsymbols = [\"❌\", \"⭕\", \"☑️\", \"✅\",\"❌\", \"⭕\", \"☑️\", \"✅\"]\n",
        "print (len(lsymbols))\n",
        "X =\"abjkdljufo9uoljh\"\n",
        "print (len(X))"
      ],
      "metadata": {
        "colab": {
          "base_uri": "https://localhost:8080/"
        },
        "id": "bhrcUkx_5_cX",
        "outputId": "38f4d5a9-6a9f-4f34-eaf2-01ea635ba016"
      },
      "execution_count": 131,
      "outputs": [
        {
          "output_type": "stream",
          "name": "stdout",
          "text": [
            "8\n",
            "16\n"
          ]
        }
      ]
    },
    {
      "cell_type": "code",
      "source": [
        "left,mid,right = \"☑️\",\"⭕\",\"✅\"\n",
        "\n",
        "layer = 10\n",
        "i = 0\n",
        "while i < layer:\n",
        "    lcount = i\n",
        "    rcount = i\n",
        "    #第1層個數(layer*2-1)\n",
        "    midcount= (layer*2-1)-(2*i)\n",
        "    print(left*lcount +\n",
        "       mid*midcount +\n",
        "       right*rcount)\n",
        "    i = i + 1"
      ],
      "metadata": {
        "colab": {
          "base_uri": "https://localhost:8080/"
        },
        "id": "3ADV9d5tgTtv",
        "outputId": "15583d7c-663d-4eed-869b-1cc3e4459c65"
      },
      "execution_count": 138,
      "outputs": [
        {
          "output_type": "stream",
          "name": "stdout",
          "text": [
            "⭕⭕⭕⭕⭕⭕⭕⭕⭕⭕⭕⭕⭕⭕⭕⭕⭕⭕⭕\n",
            "☑️⭕⭕⭕⭕⭕⭕⭕⭕⭕⭕⭕⭕⭕⭕⭕⭕⭕✅\n",
            "☑️☑️⭕⭕⭕⭕⭕⭕⭕⭕⭕⭕⭕⭕⭕⭕⭕✅✅\n",
            "☑️☑️☑️⭕⭕⭕⭕⭕⭕⭕⭕⭕⭕⭕⭕⭕✅✅✅\n",
            "☑️☑️☑️☑️⭕⭕⭕⭕⭕⭕⭕⭕⭕⭕⭕✅✅✅✅\n",
            "☑️☑️☑️☑️☑️⭕⭕⭕⭕⭕⭕⭕⭕⭕✅✅✅✅✅\n",
            "☑️☑️☑️☑️☑️☑️⭕⭕⭕⭕⭕⭕⭕✅✅✅✅✅✅\n",
            "☑️☑️☑️☑️☑️☑️☑️⭕⭕⭕⭕⭕✅✅✅✅✅✅✅\n",
            "☑️☑️☑️☑️☑️☑️☑️☑️⭕⭕⭕✅✅✅✅✅✅✅✅\n",
            "☑️☑️☑️☑️☑️☑️☑️☑️☑️⭕✅✅✅✅✅✅✅✅✅\n"
          ]
        }
      ]
    },
    {
      "cell_type": "code",
      "source": [
        "#total\n",
        "total = 0\n",
        "i = 0\n",
        "while i < 10:\n",
        "    total = total + ( i + 1)\n",
        "    print(\"腦袋裡是:\", total)\n",
        "    i = i + 1\n",
        "print(\"總計是\",total)"
      ],
      "metadata": {
        "colab": {
          "base_uri": "https://localhost:8080/"
        },
        "id": "jN9yS6rOrFWP",
        "outputId": "60951e7d-d33a-40a9-c029-f8fdf0a0ceb1"
      },
      "execution_count": 83,
      "outputs": [
        {
          "output_type": "stream",
          "name": "stdout",
          "text": [
            "腦袋裡是: 1\n",
            "腦袋裡是: 3\n",
            "腦袋裡是: 6\n",
            "腦袋裡是: 10\n",
            "腦袋裡是: 15\n",
            "腦袋裡是: 21\n",
            "腦袋裡是: 28\n",
            "腦袋裡是: 36\n",
            "腦袋裡是: 45\n",
            "腦袋裡是: 55\n",
            "總計是 55\n"
          ]
        }
      ]
    },
    {
      "cell_type": "code",
      "source": [
        "a ,b= 2,7\n",
        "result =\"0.\"\n",
        "\n",
        "i= 0\n",
        "while i < 10:\n",
        "    #a不夠除,往後補0\n",
        "    A10 = a*10\n",
        "    result = result+str(A10//b)\n",
        "    a = A10 % b\n",
        "    print(result)\n",
        "    i = i + 1"
      ],
      "metadata": {
        "colab": {
          "base_uri": "https://localhost:8080/"
        },
        "id": "CZ7q0pPCt4qm",
        "outputId": "fb14f306-a52a-4155-a12f-bad69ac41029"
      },
      "execution_count": 94,
      "outputs": [
        {
          "output_type": "stream",
          "name": "stdout",
          "text": [
            "0.2\n",
            "0.28\n",
            "0.285\n",
            "0.2857\n",
            "0.28571\n",
            "0.285714\n",
            "0.2857142\n",
            "0.28571428\n",
            "0.285714285\n",
            "0.2857142857\n"
          ]
        }
      ]
    },
    {
      "cell_type": "code",
      "source": [
        "2/7"
      ],
      "metadata": {
        "colab": {
          "base_uri": "https://localhost:8080/"
        },
        "id": "FPtfkQxXxjIj",
        "outputId": "8b103615-f77e-4ee5-ca9d-d0917c32345b"
      },
      "execution_count": 93,
      "outputs": [
        {
          "output_type": "execute_result",
          "data": {
            "text/plain": [
              "0.2857142857142857"
            ]
          },
          "metadata": {},
          "execution_count": 93
        }
      ]
    },
    {
      "cell_type": "code",
      "source": [
        "#商有整數部分，除法算到小數點第i位\n",
        "a , b = 250 , 7\n",
        "result = str( a//b )+\".\"\n",
        "a = a % b\n",
        "i= 0\n",
        "#算小數點後面的位數，總共i次\n",
        "while i < 10:\n",
        "    #a不夠除,往後補0\n",
        "    A10 = a*10\n",
        "    result = result + str( A10 // b)\n",
        "    a = A10 % b\n",
        "    print(result)\n",
        "    i = i + 1"
      ],
      "metadata": {
        "colab": {
          "base_uri": "https://localhost:8080/"
        },
        "id": "5DH4qs0Frdgx",
        "outputId": "3bc270ec-60da-4c2f-cb24-01bda5c0dfe2"
      },
      "execution_count": 97,
      "outputs": [
        {
          "output_type": "stream",
          "name": "stdout",
          "text": [
            "35.7\n",
            "35.71\n",
            "35.714\n",
            "35.7142\n",
            "35.71428\n",
            "35.714285\n",
            "35.7142857\n",
            "35.71428571\n",
            "35.714285714\n",
            "35.7142857142\n"
          ]
        }
      ]
    },
    {
      "cell_type": "code",
      "source": [
        "250/7"
      ],
      "metadata": {
        "colab": {
          "base_uri": "https://localhost:8080/"
        },
        "id": "LP2KAvwJzwVi",
        "outputId": "aec32ca0-96a2-4804-cb87-622411d59d44"
      },
      "execution_count": 98,
      "outputs": [
        {
          "output_type": "execute_result",
          "data": {
            "text/plain": [
              "35.714285714285715"
            ]
          },
          "metadata": {},
          "execution_count": 98
        }
      ]
    }
  ]
}