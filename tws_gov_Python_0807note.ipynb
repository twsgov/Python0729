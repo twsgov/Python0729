{
  "nbformat": 4,
  "nbformat_minor": 0,
  "metadata": {
    "colab": {
      "provenance": [],
      "authorship_tag": "ABX9TyNXwmXRj+E4f9qJpsXb0BLG",
      "include_colab_link": true
    },
    "kernelspec": {
      "name": "python3",
      "display_name": "Python 3"
    },
    "language_info": {
      "name": "python"
    }
  },
  "cells": [
    {
      "cell_type": "markdown",
      "metadata": {
        "id": "view-in-github",
        "colab_type": "text"
      },
      "source": [
        "<a href=\"https://colab.research.google.com/github/twsgov/Python0729/blob/main/tws_gov_Python_0807note.ipynb\" target=\"_parent\"><img src=\"https://colab.research.google.com/assets/colab-badge.svg\" alt=\"Open In Colab\"/></a>"
      ]
    },
    {
      "cell_type": "code",
      "execution_count": 28,
      "metadata": {
        "colab": {
          "base_uri": "https://localhost:8080/"
        },
        "id": "Whhr0eWhLVY0",
        "outputId": "b9fbe303-beb2-44fc-a3be-a2eee244aa7d"
      },
      "outputs": [
        {
          "output_type": "stream",
          "name": "stdout",
          "text": [
            "0 1 9 5  []\n",
            "1 2 8 8 hi [2, 3]\n",
            "2 3 7 11 hihi [2, 3, 2, 3]\n",
            "3 4 6 14 hihihi [2, 3, 2, 3, 2, 3]\n",
            "4 5 5 17 hihihihi [2, 3, 2, 3, 2, 3, 2, 3]\n",
            "5 6 4 20 hihihihihi [2, 3, 2, 3, 2, 3, 2, 3, 2, 3]\n",
            "6 7 3 23 hihihihihihi [2, 3, 2, 3, 2, 3, 2, 3, 2, 3, 2, 3]\n",
            "7 8 2 26 hihihihihihihi [2, 3, 2, 3, 2, 3, 2, 3, 2, 3, 2, 3, 2, 3]\n",
            "8 9 1 29 hihihihihihihihi [2, 3, 2, 3, 2, 3, 2, 3, 2, 3, 2, 3, 2, 3, 2, 3]\n",
            "9 10 0 32 hihihihihihihihihi [2, 3, 2, 3, 2, 3, 2, 3, 2, 3, 2, 3, 2, 3, 2, 3, 2, 3]\n"
          ]
        }
      ],
      "source": [
        "i = 0\n",
        "while i < 10:\n",
        "    print(i,i+1,9-i,i*3+5,\"hi\"* i,[2, 3]*i)\n",
        "    i = i + 1"
      ]
    },
    {
      "cell_type": "code",
      "source": [
        "left,right = \"○\",\"╳\"\n",
        "\n",
        "layer = 10\n",
        "i = 0\n",
        "while i < layer:\n",
        "    lcount = i\n",
        "    rcount = layer - i\n",
        "    print(left * lcount + right * rcount)\n",
        "    i = i + 1"
      ],
      "metadata": {
        "colab": {
          "base_uri": "https://localhost:8080/"
        },
        "id": "0c1rhHB6SiWN",
        "outputId": "ed3614af-10e4-43ae-fd09-a42d9f1aad6c"
      },
      "execution_count": 54,
      "outputs": [
        {
          "output_type": "stream",
          "name": "stdout",
          "text": [
            "╳╳╳╳╳╳╳╳╳╳\n",
            "○╳╳╳╳╳╳╳╳╳\n",
            "○○╳╳╳╳╳╳╳╳\n",
            "○○○╳╳╳╳╳╳╳\n",
            "○○○○╳╳╳╳╳╳\n",
            "○○○○○╳╳╳╳╳\n",
            "○○○○○○╳╳╳╳\n",
            "○○○○○○○╳╳╳\n",
            "○○○○○○○○╳╳\n",
            "○○○○○○○○○╳\n"
          ]
        }
      ]
    },
    {
      "cell_type": "markdown",
      "source": [],
      "metadata": {
        "id": "9sgHTnW0R-lE"
      }
    },
    {
      "cell_type": "markdown",
      "source": [
        "\n",
        "\n",
        "```\n",
        "# 此內容會顯示為程式碼\n",
        "Q:print(\" \"*i ,\"o\"*(layer-i)) 中間會有1個空格\n",
        "Q:print(\" \"*i+\"o\"*(layer-i))\n",
        "Q:\n",
        "\"hi\"* 5\n",
        "\n",
        "0\n",
        "i = i + 1\n",
        "i < 10\n",
        "\n",
        "\n",
        "```\n",
        "\n"
      ],
      "metadata": {
        "id": "kWubzMq-NchB"
      }
    },
    {
      "cell_type": "code",
      "source": [
        "\n",
        "lsymbols = [\" \"]\n",
        "rsymbols = [\"o\", \"x\", \"@\", \"$\", \"!\"]\n",
        "\n",
        "layer = 10\n",
        "i = 0\n",
        "while i < layer:\n",
        "    # 只要對某個東西算長度 len(要算長度的東西)\n",
        "    left = lsymbols[i%len(lsymbols)]\n",
        "    right = rsymbols[i%len(rsymbols)]\n",
        "\n",
        "    lcount = i\n",
        "    rcount = layer - i\n",
        "    print(left * lcount + right * rcount)\n",
        "    i = i + 1\n"
      ],
      "metadata": {
        "colab": {
          "base_uri": "https://localhost:8080/"
        },
        "id": "lIEUMIU2Ng9W",
        "outputId": "7d28b619-2018-46aa-eaf0-cfb504604c03"
      },
      "execution_count": 64,
      "outputs": [
        {
          "output_type": "stream",
          "name": "stdout",
          "text": [
            "oooooooooo\n",
            " xxxxxxxxx\n",
            "  @@@@@@@@\n",
            "   $$$$$$$\n",
            "    !!!!!!\n",
            "     ooooo\n",
            "      xxxx\n",
            "       @@@\n",
            "        $$\n",
            "         !\n"
          ]
        }
      ]
    },
    {
      "cell_type": "code",
      "source": [
        "left,mid,right = \"╳\",\"○\",\"╳\"\n",
        "\n",
        "layer = 10\n",
        "i = 0\n",
        "while i < layer:\n",
        "    lcount = i\n",
        "    rcount = i\n",
        "    #第1層個數(layer*2-1)\n",
        "    midcount= (layer*2-1)-(2*i)\n",
        "    print(left*lcount +\n",
        "       mid*midcount +\n",
        "       right*rcount)\n",
        "    i = i + 1"
      ],
      "metadata": {
        "colab": {
          "base_uri": "https://localhost:8080/"
        },
        "id": "3ADV9d5tgTtv",
        "outputId": "88fafbf3-61cb-4bb3-fb96-a2c3c4a08287"
      },
      "execution_count": 72,
      "outputs": [
        {
          "output_type": "stream",
          "name": "stdout",
          "text": [
            "○○○○○○○○○○○○○○○○○○○\n",
            "╳○○○○○○○○○○○○○○○○○╳\n",
            "╳╳○○○○○○○○○○○○○○○╳╳\n",
            "╳╳╳○○○○○○○○○○○○○╳╳╳\n",
            "╳╳╳╳○○○○○○○○○○○╳╳╳╳\n",
            "╳╳╳╳╳○○○○○○○○○╳╳╳╳╳\n",
            "╳╳╳╳╳╳○○○○○○○╳╳╳╳╳╳\n",
            "╳╳╳╳╳╳╳○○○○○╳╳╳╳╳╳╳\n",
            "╳╳╳╳╳╳╳╳○○○╳╳╳╳╳╳╳╳\n",
            "╳╳╳╳╳╳╳╳╳○╳╳╳╳╳╳╳╳╳\n"
          ]
        }
      ]
    }
  ]
}