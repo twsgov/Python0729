{
  "nbformat": 4,
  "nbformat_minor": 0,
  "metadata": {
    "colab": {
      "provenance": [],
      "authorship_tag": "ABX9TyPv4UkDU+Ls3LOmo1j1RH3b",
      "include_colab_link": true
    },
    "kernelspec": {
      "name": "python3",
      "display_name": "Python 3"
    },
    "language_info": {
      "name": "python"
    }
  },
  "cells": [
    {
      "cell_type": "markdown",
      "metadata": {
        "id": "view-in-github",
        "colab_type": "text"
      },
      "source": [
        "<a href=\"https://colab.research.google.com/github/twsgov/Python0729/blob/main/twsgov_20250731_note.ipynb\" target=\"_parent\"><img src=\"https://colab.research.google.com/assets/colab-badge.svg\" alt=\"Open In Colab\"/></a>"
      ]
    },
    {
      "cell_type": "code",
      "execution_count": null,
      "metadata": {
        "colab": {
          "base_uri": "https://localhost:8080/"
        },
        "id": "ZNI5OUKBIvgm",
        "outputId": "28ab645d-8fea-4cd3-ec52-946cfba6a8b2"
      },
      "outputs": [
        {
          "output_type": "stream",
          "name": "stdout",
          "text": [
            "0.剪刀 1.石頭 2.布:2\n",
            "電腦的: 2\n"
          ]
        }
      ],
      "source": [
        "import random\n",
        "\n",
        "my = int(input(\"0.剪刀 1.石頭 2.布:\"))\n",
        "com = random.randint(0, 2)\n",
        "print(\"電腦的:\", com)"
      ]
    },
    {
      "cell_type": "code",
      "source": [],
      "metadata": {
        "id": "8TDHT_OcnJeU"
      },
      "execution_count": null,
      "outputs": []
    },
    {
      "cell_type": "code",
      "source": [
        "import random\n",
        "# 創建一個清單trans\n",
        "trans = [\"剪刀\",\"石頭\",\"布\"]\n",
        "\n",
        "my = int(input(\"0.剪刀 1.石頭 2.布 ：\"))\n",
        "com = int(random.randint(0, 2))\n",
        "print(\"我出\", trans[my],\"電腦出\",trans[com])\n",
        "# 我選的是電腦的(下一個)循環數列，我贏\n",
        "if my == (com + 1)%3:\n",
        "    print(\"我贏\")\n",
        "elif com  == (my + 1)%3:\n",
        "    print(\"我輸\")\n",
        "else:\n",
        "    print(\"平手\")\n",
        "# # 我選的是電腦的(前一個)循環數列，我輸"
      ],
      "metadata": {
        "colab": {
          "base_uri": "https://localhost:8080/"
        },
        "id": "g64kl1R8R18I",
        "outputId": "f78f59ae-7777-416b-e357-a8bb9aaa0345"
      },
      "execution_count": null,
      "outputs": [
        {
          "output_type": "stream",
          "name": "stdout",
          "text": [
            "0.剪刀 1.石頭 2.布 ：2\n",
            "我出 布 電腦出 剪刀\n",
            "我輸\n"
          ]
        }
      ]
    },
    {
      "cell_type": "code",
      "source": [],
      "metadata": {
        "id": "aLCgn5FVjsRf"
      },
      "execution_count": null,
      "outputs": []
    },
    {
      "cell_type": "markdown",
      "source": [
        "\n",
        "\n",
        "```\n",
        "# 核心邏輯\n",
        "# 擴充性\n",
        "# 撲克牌有循環大小關係的\n",
        "# 引用 import\n",
        "資料夾.(的)\n",
        "創造一個list型態 trans = [\"剪刀\",\"石頭\",\"布\"]\n",
        "key 0 1 2\n",
        "查詢操作[]\n",
        "\n",
        "0到N的循環值 x%(N+1)\n",
        "\n",
        "```\n",
        "\n"
      ],
      "metadata": {
        "id": "5IfIcBkgJhsI"
      }
    },
    {
      "cell_type": "code",
      "source": [
        "-2%3"
      ],
      "metadata": {
        "colab": {
          "base_uri": "https://localhost:8080/"
        },
        "id": "O1JdL3GmcS4H",
        "outputId": "83a5d3ce-568b-4dce-e7da-e03f3766b46e"
      },
      "execution_count": null,
      "outputs": [
        {
          "output_type": "execute_result",
          "data": {
            "text/plain": [
              "1"
            ]
          },
          "metadata": {},
          "execution_count": 38
        }
      ]
    },
    {
      "cell_type": "code",
      "source": [
        "# 字串\n",
        "s = \"hello\"\n",
        "print(s[1])"
      ],
      "metadata": {
        "colab": {
          "base_uri": "https://localhost:8080/"
        },
        "id": "LNccG2eLXBQh",
        "outputId": "2b9e21e4-fcce-41a3-f65e-0d69a7f48ee6"
      },
      "execution_count": null,
      "outputs": [
        {
          "output_type": "stream",
          "name": "stdout",
          "text": [
            "e\n"
          ]
        }
      ]
    },
    {
      "cell_type": "code",
      "source": [
        "import random\n",
        "\n",
        "# 創建一個轉換清單\n",
        "trans = [\"剪刀(1)\", \"石頭(1)\", \"布(1)\", \"剪刀(2)\", \"石頭(2)\", \"布(2)\"]\n",
        "my = int(input(\"請輸入一個整數0-5:\"))\n",
        "com = random.randint(0, 5)\n",
        "print(\"我出\", trans[my],\"電腦出\",trans[com])\n",
        "# 先確定是否同組(取商)\n",
        "if int(my // 3) == int(com // 3):\n",
        "    print(\"同組\")\n",
        "    # case1: my, com (0-2)\n",
        "    # case2: my, com (3-5) -> 想個辦法讓case2的勝負評選方法跟 case1 相同，只要餘數相同\n",
        "    my = my % 3\n",
        "    com = com % 3\n",
        "    # 我選的是電腦的(下一個)循環\n",
        "    if my == (com + 1) % 3:\n",
        "        print(\"我贏\")\n",
        "    # 我選的是電腦的前一個\n",
        "    elif com == (my + 1) % 3:\n",
        "        print(\"我輸\")\n",
        "    else:\n",
        "        print(\"同組,平手\")\n",
        "else:\n",
        "    print(\"不同組,平手\")"
      ],
      "metadata": {
        "colab": {
          "base_uri": "https://localhost:8080/"
        },
        "id": "ehXDf46PWwdD",
        "outputId": "f598336c-ff58-4f05-d7b7-d3180fb1dd43"
      },
      "execution_count": null,
      "outputs": [
        {
          "output_type": "stream",
          "name": "stdout",
          "text": [
            "請輸入一個整數0-5:0\n",
            "我出 剪刀(1) 電腦出 布(2)\n",
            "不同組,平手\n"
          ]
        }
      ]
    },
    {
      "cell_type": "code",
      "source": [],
      "metadata": {
        "id": "oXz2Pf-akxyT"
      },
      "execution_count": null,
      "outputs": []
    }
  ]
}