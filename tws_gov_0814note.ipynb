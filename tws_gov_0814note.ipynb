{
  "nbformat": 4,
  "nbformat_minor": 0,
  "metadata": {
    "colab": {
      "provenance": [],
      "authorship_tag": "ABX9TyMerj08J42RJ8osNzX7I5Kr",
      "include_colab_link": true
    },
    "kernelspec": {
      "name": "python3",
      "display_name": "Python 3"
    },
    "language_info": {
      "name": "python"
    }
  },
  "cells": [
    {
      "cell_type": "markdown",
      "metadata": {
        "id": "view-in-github",
        "colab_type": "text"
      },
      "source": [
        "<a href=\"https://colab.research.google.com/github/twsgov/Python0729/blob/main/tws_gov_0814note.ipynb\" target=\"_parent\"><img src=\"https://colab.research.google.com/assets/colab-badge.svg\" alt=\"Open In Colab\"/></a>"
      ]
    },
    {
      "cell_type": "code",
      "execution_count": 10,
      "metadata": {
        "colab": {
          "base_uri": "https://localhost:8080/"
        },
        "id": "oFpq9mL1OYnP",
        "outputId": "85668fef-36e9-4c20-927f-b6275e72e98a"
      },
      "outputs": [
        {
          "output_type": "stream",
          "name": "stdout",
          "text": [
            "0 1 繼續\n",
            "1 1 繼續\n",
            "2 1 繼續\n",
            "2 2 繼續\n",
            "2 3 Deuce, 繼續\n",
            "2 4 有人贏\n",
            "比賽結束。B贏\n"
          ]
        }
      ],
      "source": [
        "import random\n",
        "\n",
        "# 4:3 還要繼續\n",
        "# 5:3 a win\n",
        "# 5:4 deuce\n",
        "# 7:6 deuce\n",
        "# 7:5 a win\n",
        "\n",
        "score_to_win = 3\n",
        "#\n",
        "win_a, win_b = 0, 0\n",
        "\n",
        "#\n",
        "\n",
        "while True:\n",
        "    # 0: player A win\n",
        "    # 1: player B win\n",
        "\n",
        "    result = random.randint(0, 1)\n",
        "    if result == 0:\n",
        "        win_a = win_a + 1\n",
        "    if result == 1:\n",
        "        win_b = win_b + 1\n",
        "    #要不要開始判斷輸贏(有人到5分)\n",
        "        #分5:3 贏，5:4 繼續\n",
        "    if ((win_a >= score_to_win) or(win_b >= score_to_win)):\n",
        "        #如果分數差值>2分代表有人贏\n",
        "        if abs(win_a - win_b) >=2:\n",
        "            print(win_a , win_b,\"有人贏\")\n",
        "            break\n",
        "        else :\n",
        "            print(win_a , win_b,\"Deuce, 繼續\")\n",
        "    else:\n",
        "        print(win_a , win_b,\"繼續\")\n",
        "\n",
        "\n",
        "\n",
        "if win_a > win_b :\n",
        "    print(\"比賽結束。A贏\")\n",
        "else:\n",
        "    print(\"比賽結束。B贏\")\n",
        "\n"
      ]
    },
    {
      "cell_type": "code",
      "source": [
        "# 4:3 還要繼續\n",
        "# 5:3 a win\n",
        "# 5:4 deuce\n",
        "# 5:5 deuce\n",
        "# 7:6 deuce\n",
        "# 7:5 a win\n",
        "score_to_win = 5\n",
        "win_a, win_b = 5, 7\n",
        "if (win_a >= score_to_win) or (win_b >= score_to_win):\n",
        "    # 5:3\n",
        "    if abs(win_a-win_b) >= 2:\n",
        "        print(\"有人贏了\")\n",
        "        # break\n",
        "    # 5:4\n",
        "    else:\n",
        "        print(\"Deuce, 繼續\")\n",
        "else:\n",
        "    print(\"沒人到分數線, 繼續\")"
      ],
      "metadata": {
        "id": "TEUCevHnU5Lt"
      },
      "execution_count": null,
      "outputs": []
    },
    {
      "cell_type": "markdown",
      "source": [
        "\n",
        "\n",
        "```\n",
        "超過\n",
        "```\n",
        "\n"
      ],
      "metadata": {
        "id": "muazjN-lOglb"
      }
    }
  ]
}