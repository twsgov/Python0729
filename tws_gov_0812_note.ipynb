{
  "nbformat": 4,
  "nbformat_minor": 0,
  "metadata": {
    "colab": {
      "provenance": [],
      "authorship_tag": "ABX9TyNi4JSUUy0KQR5L+OD/ugD8",
      "include_colab_link": true
    },
    "kernelspec": {
      "name": "python3",
      "display_name": "Python 3"
    },
    "language_info": {
      "name": "python"
    }
  },
  "cells": [
    {
      "cell_type": "markdown",
      "metadata": {
        "id": "view-in-github",
        "colab_type": "text"
      },
      "source": [
        "<a href=\"https://colab.research.google.com/github/twsgov/Python0729/blob/main/tws_gov_0812_note.ipynb\" target=\"_parent\"><img src=\"https://colab.research.google.com/assets/colab-badge.svg\" alt=\"Open In Colab\"/></a>"
      ]
    },
    {
      "cell_type": "code",
      "execution_count": 21,
      "metadata": {
        "colab": {
          "base_uri": "https://localhost:8080/"
        },
        "id": "WmUSdgF56n20",
        "outputId": "910dffe2-aeff-4200-a76d-d84962623330"
      },
      "outputs": [
        {
          "output_type": "stream",
          "name": "stdout",
          "text": [
            "閏年\n"
          ]
        }
      ],
      "source": [
        "#西元1500至3000年有幾個閏年，可以被四整除\n",
        "# 9999 F\n",
        "# 888 T(4)\n",
        "# 1800 F(4 100)\n",
        "# 2000 F (4 100 400)\n",
        "Y = 2000\n",
        "if Y % 4 == 0 :\n",
        "    if Y % 100 == 0 :\n",
        "      if Y % 400 == 0:\n",
        "        print(\"閏年\")\n",
        "      else:\n",
        "        print(\"平年\")\n",
        "    else :\n",
        "      print(\"閏年\")\n",
        "else :\n",
        "    print(\"平年\")\n"
      ]
    },
    {
      "cell_type": "code",
      "source": [
        "# 2000年\n",
        "base_year = 2000\n",
        "add_year = 1000\n",
        "#有幾個閏年\n",
        "count = 0\n",
        "\n",
        "Y = base_year\n",
        "i = 0\n",
        "#逐一增加幾次\n",
        "while i < add_year :\n",
        "    Y = base_year + i\n",
        "    if Y % 400 == 0 :\n",
        "        #print(\"閏年\")\n",
        "        count = count +1\n",
        "    elif Y % 100 == 0 :\n",
        "        pass\n",
        "    elif Y % 4 == 0 :\n",
        "        #print(\"閏年\")\n",
        "        count = count +1\n",
        "    else:\n",
        "        #print(\"平年\")\n",
        "        pass\n",
        "    i = i + 1\n",
        "print(count)"
      ],
      "metadata": {
        "colab": {
          "base_uri": "https://localhost:8080/"
        },
        "id": "jjSsOIFZEFDh",
        "outputId": "1a180561-6150-45c9-8878-f670142a8104"
      },
      "execution_count": 39,
      "outputs": [
        {
          "output_type": "stream",
          "name": "stdout",
          "text": [
            "243\n"
          ]
        }
      ]
    },
    {
      "cell_type": "markdown",
      "source": [
        "\n",
        "\n",
        "```\n",
        "# 閏年 2月多一天\n",
        "```\n",
        "\n"
      ],
      "metadata": {
        "id": "JK8BY2QB7ytN"
      }
    }
  ]
}